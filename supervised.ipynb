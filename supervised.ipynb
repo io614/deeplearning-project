{
 "cells": [
  {
   "cell_type": "code",
   "execution_count": 336,
   "id": "11ae3a9f",
   "metadata": {},
   "outputs": [
    {
     "name": "stdout",
     "output_type": "stream",
     "text": [
      "The autoreload extension is already loaded. To reload it, use:\n",
      "  %reload_ext autoreload\n"
     ]
    }
   ],
   "source": [
    "%load_ext autoreload\n",
    "\n",
    "%autoreload 2"
   ]
  },
  {
   "cell_type": "code",
   "execution_count": 337,
   "id": "f7d38815",
   "metadata": {},
   "outputs": [],
   "source": [
    "import numpy as np\n",
    "import pandas as pd\n",
    "import json\n",
    "import utils\n",
    "import itertools\n",
    "\n",
    "from sklearn.metrics import roc_auc_score\n",
    "from sklearn.model_selection import train_test_split\n",
    "from sklearn.linear_model import LogisticRegression\n",
    "from sklearn.ensemble import RandomForestClassifier"
   ]
  },
  {
   "cell_type": "code",
   "execution_count": 338,
   "id": "1c1feae3",
   "metadata": {},
   "outputs": [],
   "source": [
    "config_dicts = utils.get_config_dicts()"
   ]
  },
  {
   "cell_type": "code",
   "execution_count": 339,
   "id": "481baa02",
   "metadata": {},
   "outputs": [],
   "source": [
    "config_df = pd.DataFrame(config_dicts)"
   ]
  },
  {
   "cell_type": "code",
   "execution_count": 340,
   "id": "b507cae2",
   "metadata": {},
   "outputs": [],
   "source": [
    "base_models = sorted(set(config_df[\"base_model\"].values))\n",
    "datasets = sorted(set(config_df[\"dataset\"].values))\n",
    "drop_scoring_base_bools = [False, True]"
   ]
  },
  {
   "cell_type": "code",
   "execution_count": 341,
   "id": "84ca6cdb",
   "metadata": {},
   "outputs": [],
   "source": [
    "ensemble_configs = list(dict(zip((\"base_model\", \"drop_scoring_base\", \"dataset\"), p)) for p in itertools.product(base_models, drop_scoring_base_bools, datasets))"
   ]
  },
  {
   "cell_type": "code",
   "execution_count": 342,
   "id": "eb58a2c6",
   "metadata": {},
   "outputs": [
    {
     "data": {
      "text/plain": [
       "[{'base_model': 'EleutherAI-gpt-neo-125m',\n",
       "  'drop_scoring_base': False,\n",
       "  'dataset': 'xsum'},\n",
       " {'base_model': 'EleutherAI-gpt-neo-125m',\n",
       "  'drop_scoring_base': True,\n",
       "  'dataset': 'xsum'},\n",
       " {'base_model': 'gpt2', 'drop_scoring_base': False, 'dataset': 'xsum'},\n",
       " {'base_model': 'gpt2', 'drop_scoring_base': True, 'dataset': 'xsum'},\n",
       " {'base_model': 'gpt2-medium', 'drop_scoring_base': False, 'dataset': 'xsum'},\n",
       " {'base_model': 'gpt2-medium', 'drop_scoring_base': True, 'dataset': 'xsum'}]"
      ]
     },
     "execution_count": 342,
     "metadata": {},
     "output_type": "execute_result"
    }
   ],
   "source": [
    "ensemble_configs"
   ]
  },
  {
   "cell_type": "code",
   "execution_count": 333,
   "id": "19d34f24",
   "metadata": {},
   "outputs": [],
   "source": [
    "def get_aucs(**kwargs):\n",
    "    df = utils.get_pred_df(**kwargs)\n",
    "    \n",
    "    y = df[\"y\"]\n",
    "    X = df.drop(\"y\", axis=1).values\n",
    "\n",
    "    auc_dict = {}\n",
    "\n",
    "    auc_dict[\"max\"] = roc_auc_score(y, X.max(axis=1))\n",
    "    auc_dict[\"mean\"] =  roc_auc_score(y, X.mean(axis=1))\n",
    "    auc_dict[\"median\"] = roc_auc_score(y, np.median(X, axis=1))\n",
    "\n",
    "    X_train, X_test, y_train, y_test = train_test_split(X, y)\n",
    "\n",
    "    model_lr = LogisticRegression()\n",
    "    model_lr.fit(X_train, y_train)\n",
    "    auc_dict[\"lr\"] = roc_auc_score(y_test, model_lr.predict_proba(X_test)[:, 1])\n",
    "\n",
    "    model_rf = RandomForestClassifier()\n",
    "    model_rf.fit(X_train, y_train)\n",
    "    auc_dict[\"rf\"] = roc_auc_score(y_test, model_rf.predict_proba(X_test)[:, 1])\n",
    "    return auc_dict"
   ]
  },
  {
   "cell_type": "code",
   "execution_count": 322,
   "id": "6132b643",
   "metadata": {},
   "outputs": [],
   "source": [
    "df_ensemble_results_nested = pd.DataFrame([{**c, \"aucs\":get_aucs(**c)} for c in ensemble_configs])"
   ]
  },
  {
   "cell_type": "code",
   "execution_count": 323,
   "id": "be36459e",
   "metadata": {},
   "outputs": [],
   "source": [
    "df_ensemble_results = df_ensemble_results_nested.join(df_ensemble_results_nested[\"aucs\"].apply(pd.Series)).drop(\"aucs\", axis=1)"
   ]
  },
  {
   "cell_type": "code",
   "execution_count": 324,
   "id": "ea512607",
   "metadata": {
    "scrolled": true
   },
   "outputs": [
    {
     "data": {
      "text/html": [
       "<div>\n",
       "<style scoped>\n",
       "    .dataframe tbody tr th:only-of-type {\n",
       "        vertical-align: middle;\n",
       "    }\n",
       "\n",
       "    .dataframe tbody tr th {\n",
       "        vertical-align: top;\n",
       "    }\n",
       "\n",
       "    .dataframe thead th {\n",
       "        text-align: right;\n",
       "    }\n",
       "</style>\n",
       "<table border=\"1\" class=\"dataframe\">\n",
       "  <thead>\n",
       "    <tr style=\"text-align: right;\">\n",
       "      <th></th>\n",
       "      <th>base_model</th>\n",
       "      <th>scoring_model</th>\n",
       "      <th>dataset</th>\n",
       "      <th>auc</th>\n",
       "    </tr>\n",
       "  </thead>\n",
       "  <tbody>\n",
       "    <tr>\n",
       "      <th>0</th>\n",
       "      <td>EleutherAI-gpt-neo-125m</td>\n",
       "      <td>EleutherAI-gpt-neo-125m</td>\n",
       "      <td>xsum</td>\n",
       "      <td>0.998200</td>\n",
       "    </tr>\n",
       "    <tr>\n",
       "      <th>2</th>\n",
       "      <td>EleutherAI-gpt-neo-125m</td>\n",
       "      <td>gpt2</td>\n",
       "      <td>xsum</td>\n",
       "      <td>0.696050</td>\n",
       "    </tr>\n",
       "    <tr>\n",
       "      <th>1</th>\n",
       "      <td>EleutherAI-gpt-neo-125m</td>\n",
       "      <td>gpt2-medium</td>\n",
       "      <td>xsum</td>\n",
       "      <td>0.247875</td>\n",
       "    </tr>\n",
       "    <tr>\n",
       "      <th>6</th>\n",
       "      <td>gpt2</td>\n",
       "      <td>EleutherAI-gpt-neo-125m</td>\n",
       "      <td>xsum</td>\n",
       "      <td>0.932550</td>\n",
       "    </tr>\n",
       "    <tr>\n",
       "      <th>8</th>\n",
       "      <td>gpt2</td>\n",
       "      <td>gpt2</td>\n",
       "      <td>xsum</td>\n",
       "      <td>0.978875</td>\n",
       "    </tr>\n",
       "    <tr>\n",
       "      <th>7</th>\n",
       "      <td>gpt2</td>\n",
       "      <td>gpt2-medium</td>\n",
       "      <td>xsum</td>\n",
       "      <td>0.536425</td>\n",
       "    </tr>\n",
       "    <tr>\n",
       "      <th>3</th>\n",
       "      <td>gpt2-medium</td>\n",
       "      <td>EleutherAI-gpt-neo-125m</td>\n",
       "      <td>xsum</td>\n",
       "      <td>0.899875</td>\n",
       "    </tr>\n",
       "    <tr>\n",
       "      <th>5</th>\n",
       "      <td>gpt2-medium</td>\n",
       "      <td>gpt2</td>\n",
       "      <td>xsum</td>\n",
       "      <td>0.901775</td>\n",
       "    </tr>\n",
       "    <tr>\n",
       "      <th>4</th>\n",
       "      <td>gpt2-medium</td>\n",
       "      <td>gpt2-medium</td>\n",
       "      <td>xsum</td>\n",
       "      <td>0.925200</td>\n",
       "    </tr>\n",
       "  </tbody>\n",
       "</table>\n",
       "</div>"
      ],
      "text/plain": [
       "                base_model            scoring_model dataset       auc\n",
       "0  EleutherAI-gpt-neo-125m  EleutherAI-gpt-neo-125m    xsum  0.998200\n",
       "2  EleutherAI-gpt-neo-125m                     gpt2    xsum  0.696050\n",
       "1  EleutherAI-gpt-neo-125m              gpt2-medium    xsum  0.247875\n",
       "6                     gpt2  EleutherAI-gpt-neo-125m    xsum  0.932550\n",
       "8                     gpt2                     gpt2    xsum  0.978875\n",
       "7                     gpt2              gpt2-medium    xsum  0.536425\n",
       "3              gpt2-medium  EleutherAI-gpt-neo-125m    xsum  0.899875\n",
       "5              gpt2-medium                     gpt2    xsum  0.901775\n",
       "4              gpt2-medium              gpt2-medium    xsum  0.925200"
      ]
     },
     "execution_count": 324,
     "metadata": {},
     "output_type": "execute_result"
    }
   ],
   "source": [
    "utils.get_auc_single().sort_values([\"base_model\", \"scoring_model\"])"
   ]
  },
  {
   "cell_type": "code",
   "execution_count": 325,
   "id": "bd6588e9",
   "metadata": {
    "scrolled": true
   },
   "outputs": [
    {
     "data": {
      "text/html": [
       "<div>\n",
       "<style scoped>\n",
       "    .dataframe tbody tr th:only-of-type {\n",
       "        vertical-align: middle;\n",
       "    }\n",
       "\n",
       "    .dataframe tbody tr th {\n",
       "        vertical-align: top;\n",
       "    }\n",
       "\n",
       "    .dataframe thead th {\n",
       "        text-align: right;\n",
       "    }\n",
       "</style>\n",
       "<table border=\"1\" class=\"dataframe\">\n",
       "  <thead>\n",
       "    <tr style=\"text-align: right;\">\n",
       "      <th></th>\n",
       "      <th>base_model</th>\n",
       "      <th>drop_scoring_base</th>\n",
       "      <th>dataset</th>\n",
       "      <th>max</th>\n",
       "      <th>mean</th>\n",
       "      <th>median</th>\n",
       "      <th>lr</th>\n",
       "      <th>rf</th>\n",
       "    </tr>\n",
       "  </thead>\n",
       "  <tbody>\n",
       "    <tr>\n",
       "      <th>0</th>\n",
       "      <td>EleutherAI-gpt-neo-125m</td>\n",
       "      <td>False</td>\n",
       "      <td>xsum</td>\n",
       "      <td>0.78330</td>\n",
       "      <td>0.804650</td>\n",
       "      <td>0.732375</td>\n",
       "      <td>1.000000</td>\n",
       "      <td>1.000000</td>\n",
       "    </tr>\n",
       "    <tr>\n",
       "      <th>1</th>\n",
       "      <td>EleutherAI-gpt-neo-125m</td>\n",
       "      <td>True</td>\n",
       "      <td>xsum</td>\n",
       "      <td>0.31355</td>\n",
       "      <td>0.464975</td>\n",
       "      <td>0.464975</td>\n",
       "      <td>0.976437</td>\n",
       "      <td>0.969409</td>\n",
       "    </tr>\n",
       "    <tr>\n",
       "      <th>2</th>\n",
       "      <td>gpt2</td>\n",
       "      <td>False</td>\n",
       "      <td>xsum</td>\n",
       "      <td>0.81760</td>\n",
       "      <td>0.898925</td>\n",
       "      <td>0.890325</td>\n",
       "      <td>0.999597</td>\n",
       "      <td>0.997383</td>\n",
       "    </tr>\n",
       "    <tr>\n",
       "      <th>3</th>\n",
       "      <td>gpt2</td>\n",
       "      <td>True</td>\n",
       "      <td>xsum</td>\n",
       "      <td>0.55780</td>\n",
       "      <td>0.785875</td>\n",
       "      <td>0.785875</td>\n",
       "      <td>0.961412</td>\n",
       "      <td>0.948686</td>\n",
       "    </tr>\n",
       "    <tr>\n",
       "      <th>4</th>\n",
       "      <td>gpt2-medium</td>\n",
       "      <td>False</td>\n",
       "      <td>xsum</td>\n",
       "      <td>0.92520</td>\n",
       "      <td>0.929075</td>\n",
       "      <td>0.899400</td>\n",
       "      <td>0.942192</td>\n",
       "      <td>0.941590</td>\n",
       "    </tr>\n",
       "    <tr>\n",
       "      <th>5</th>\n",
       "      <td>gpt2-medium</td>\n",
       "      <td>True</td>\n",
       "      <td>xsum</td>\n",
       "      <td>0.89935</td>\n",
       "      <td>0.911500</td>\n",
       "      <td>0.911500</td>\n",
       "      <td>0.906463</td>\n",
       "      <td>0.863107</td>\n",
       "    </tr>\n",
       "  </tbody>\n",
       "</table>\n",
       "</div>"
      ],
      "text/plain": [
       "                base_model  drop_scoring_base dataset      max      mean   \n",
       "0  EleutherAI-gpt-neo-125m              False    xsum  0.78330  0.804650  \\\n",
       "1  EleutherAI-gpt-neo-125m               True    xsum  0.31355  0.464975   \n",
       "2                     gpt2              False    xsum  0.81760  0.898925   \n",
       "3                     gpt2               True    xsum  0.55780  0.785875   \n",
       "4              gpt2-medium              False    xsum  0.92520  0.929075   \n",
       "5              gpt2-medium               True    xsum  0.89935  0.911500   \n",
       "\n",
       "     median        lr        rf  \n",
       "0  0.732375  1.000000  1.000000  \n",
       "1  0.464975  0.976437  0.969409  \n",
       "2  0.890325  0.999597  0.997383  \n",
       "3  0.785875  0.961412  0.948686  \n",
       "4  0.899400  0.942192  0.941590  \n",
       "5  0.911500  0.906463  0.863107  "
      ]
     },
     "execution_count": 325,
     "metadata": {},
     "output_type": "execute_result"
    }
   ],
   "source": [
    "df_ensemble_results"
   ]
  }
 ],
 "metadata": {
  "kernelspec": {
   "display_name": "Python 3 (ipykernel)",
   "language": "python",
   "name": "python3"
  },
  "language_info": {
   "codemirror_mode": {
    "name": "ipython",
    "version": 3
   },
   "file_extension": ".py",
   "mimetype": "text/x-python",
   "name": "python",
   "nbconvert_exporter": "python",
   "pygments_lexer": "ipython3",
   "version": "3.10.9"
  }
 },
 "nbformat": 4,
 "nbformat_minor": 5
}
